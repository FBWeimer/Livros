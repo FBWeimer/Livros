{
 "cells": [
  {
   "cell_type": "markdown",
   "metadata": {},
   "source": [
    "<h1><b>Capítulo 1: Grandezas Físicas</b></h1>"
   ]
  },
  {
   "cell_type": "markdown",
   "metadata": {},
   "source": [
    "<p style='text-align: justify;'>\n",
    "Na História da Física, muitas vezes a humanidade se viu obrigada a lidar com <b>medidas</b>, muitas vezes de forma independente em diferentes culturas e épocas. Tais medidas, quando relacionadas a grandezas da natureza, recebem dois atributos, um relacionado ao seu <b>aspecto quantitativo</b> e um relacionado ao seu <b>significado físico</b>. Ao primeiro aspecto, dá-se o nome de <b>número</b>, enquanto o segundo refere-se à <b>unidade</b>. A parcela numérica é de grande significância para a física, permitindo compreender a realidade de uma forma matemática, possibilitando realizar predições com a elaboração de modelos físicos bem fundamen-tos. As <b>unidades</b>, por sua vez, permitem que grandezas possam ser comparadas entre si e que sejam relacionadas com o mundo ao seu redor, devendo garantir a coesão física entre essas relações.\n",
    "Uma unidade, no entanto, não existe por si só. Além de conter um sentido físico, ela também deve possuir significado para as pessoas; para isso, uma unidade de medida deve ser comparada com uma referência, estabelecendo-se um <b>padrão</b>. Ao longo da História, diversos padrões foram utilizados, alguns deles relacionados a partes do corpo de reis, inclusive. Para cada rei estabeleciam-se novos padrões, obrigando a atualização constante das unidades e das suas variadas relações. Exemplo menos drástico, mas ainda pertinente, são os dias do ano, uma vez que existem anos bissextos, ou mesmo as horas do dia, uma vez que seu valor exato varia continuamente. Naturalmente, tais variações dificultam a utilização de um padrão, surgindo uma segunda característica desejável às unidades: elas devem ser <b>constantes</b>.\n",
    "Por muitos séculos as unidades foram regionais, variando de cidade para cidade ou de reino para reino. Isso implicava na atribuição de diferentes referências para uma grandeza (física ou não, como no caso do dinheiro). Com a expansão mercantil, afim de se estabelecer o comércio, certas unidades de medida, como o metro e o quilograma, começaram a ser utilizadas por diferentes países, originando o que viria a ser o <b>Sistema Internacional de Medidas</b>, ou simplesmente, <b>S.I.</b>, criado em 1971.\n",
    "</p>  "
   ]
  },
  {
   "cell_type": "code",
   "execution_count": null,
   "metadata": {},
   "outputs": [],
   "source": []
  }
 ],
 "metadata": {
  "kernelspec": {
   "display_name": "Python 3",
   "language": "python",
   "name": "python3"
  },
  "language_info": {
   "codemirror_mode": {
    "name": "ipython",
    "version": 3
   },
   "file_extension": ".py",
   "mimetype": "text/x-python",
   "name": "python",
   "nbconvert_exporter": "python",
   "pygments_lexer": "ipython3",
   "version": "3.7.6"
  }
 },
 "nbformat": 4,
 "nbformat_minor": 4
}
